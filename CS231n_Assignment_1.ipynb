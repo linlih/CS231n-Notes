{
  "nbformat": 4,
  "nbformat_minor": 0,
  "metadata": {
    "colab": {
      "name": "CS231n-Assignment #1",
      "provenance": [],
      "authorship_tag": "ABX9TyOWqq1cuQZg8NOJKobuq5/l",
      "include_colab_link": true
    },
    "kernelspec": {
      "name": "python3",
      "display_name": "Python 3"
    }
  },
  "cells": [
    {
      "cell_type": "markdown",
      "metadata": {
        "id": "view-in-github",
        "colab_type": "text"
      },
      "source": [
        "<a href=\"https://colab.research.google.com/github/linlih/CS231n-Notes/blob/master/CS231n_Assignment_1.ipynb\" target=\"_parent\"><img src=\"https://colab.research.google.com/assets/colab-badge.svg\" alt=\"Open In Colab\"/></a>"
      ]
    },
    {
      "cell_type": "markdown",
      "metadata": {
        "id": "sLZZQ5XVWAL5",
        "colab_type": "text"
      },
      "source": [
        "# Python tutorial"
      ]
    },
    {
      "cell_type": "code",
      "metadata": {
        "id": "s0Tdp3KGE10J",
        "colab_type": "code",
        "colab": {
          "base_uri": "https://localhost:8080/",
          "height": 35
        },
        "outputId": "4ccbf25b-b32e-4fe9-b005-11f9d642ab90"
      },
      "source": [
        "# 快速排序\n",
        "# 这个实现是很trivial的，首先每次是以数组的中心为pivot，然后分割成大于pivot和小于pivot以及等于pivot的三部分\n",
        "# 然后递归调用该函数即可完成排序了\n",
        "def quicksort(arr):\n",
        "  if len(arr) <= 1:\n",
        "    return arr\n",
        "  pivot = arr[len(arr) // 2] # // 表示的是求商 3/2=1.5 3//2=1\n",
        "  left = [x for x in arr if x < pivot]\n",
        "  middle = [x for x in arr if x == pivot]\n",
        "  right = [x for x in arr if x > pivot]\n",
        "  return quicksort(left) + middle + quicksort(right)\n",
        "print(quicksort([1, 5, 9, 3, 10, 4, 2, 14, 23]))"
      ],
      "execution_count": 3,
      "outputs": [
        {
          "output_type": "stream",
          "text": [
            "[1, 2, 3, 4, 5, 9, 10, 14, 23]\n"
          ],
          "name": "stdout"
        }
      ]
    },
    {
      "cell_type": "markdown",
      "metadata": {
        "id": "xMPlNzupZKtW",
        "colab_type": "text"
      },
      "source": [
        "## 基本数据类型\n",
        "### 数值类型"
      ]
    },
    {
      "cell_type": "code",
      "metadata": {
        "id": "Uq6J9mN5ZKQR",
        "colab_type": "code",
        "colab": {
          "base_uri": "https://localhost:8080/",
          "height": 53
        },
        "outputId": "9fdb329c-6396-4476-a655-82b101dda4ac"
      },
      "source": [
        "x = 3 # 操作：+ - * / ** += *=\n",
        "print(type(x))\n",
        "y = 2.5 \n",
        "print(type(y))"
      ],
      "execution_count": 4,
      "outputs": [
        {
          "output_type": "stream",
          "text": [
            "<class 'int'>\n",
            "<class 'float'>\n"
          ],
          "name": "stdout"
        }
      ]
    },
    {
      "cell_type": "markdown",
      "metadata": {
        "id": "JAaDUN2_ZoZy",
        "colab_type": "text"
      },
      "source": [
        "### 布尔类型"
      ]
    },
    {
      "cell_type": "code",
      "metadata": {
        "id": "-tqxJRR-Znbt",
        "colab_type": "code",
        "colab": {
          "base_uri": "https://localhost:8080/",
          "height": 35
        },
        "outputId": "c76070b9-9a5d-449a-d98a-87a80de5ccb2"
      },
      "source": [
        "t, f = True, False\n",
        "print(type(t))"
      ],
      "execution_count": 5,
      "outputs": [
        {
          "output_type": "stream",
          "text": [
            "<class 'bool'>\n"
          ],
          "name": "stdout"
        }
      ]
    },
    {
      "cell_type": "code",
      "metadata": {
        "id": "ih6UEcjMW9HI",
        "colab_type": "code",
        "colab": {
          "base_uri": "https://localhost:8080/",
          "height": 89
        },
        "outputId": "099d241d-ebec-481c-fe2a-6e6690624db2"
      },
      "source": [
        "# 注意这几个都是按位判断的\n",
        "print(t and f) # 逻辑并\n",
        "print(t or f) # 逻辑或\n",
        "print(not t) # 逻辑非\n",
        "print(t != f) # 逻辑异或，注意和异或^的区别，^是按位异或，而!=是按整个条件作为判断"
      ],
      "execution_count": 6,
      "outputs": [
        {
          "output_type": "stream",
          "text": [
            "False\n",
            "True\n",
            "False\n",
            "True\n"
          ],
          "name": "stdout"
        }
      ]
    },
    {
      "cell_type": "markdown",
      "metadata": {
        "id": "HvtrhetZduCD",
        "colab_type": "text"
      },
      "source": [
        "这里有有个很有意思的现象，当我们将True按位取反的时候结果得到了-2，这是为什么呢？\n",
        "\n",
        "首先True实际上是数值1，和int类型的1是一样的，所以在有符号数的存储中，它表示为0000_0001，那么~按位取反之后得到的结果是1111_1110，此时最高位从0变成了1，也就是说从原来的正数编程了一个负数，负数在机器中是按照补码的方式来存储的，那么实际上它的值等于它的数值位取反+1，也就是1000_0001 + 1 = 1000_0010，这个结果对应就是十进制的-2。\n",
        "\n",
        "这里又一个疑问，就是为什么负数的补码转换是取反+1呢？\n",
        "\n",
        "\n",
        "ref : https://zhidao.baidu.com/question/546703269.html\n",
        "ref : https://blog.csdn.net/wenxinwukui234/article/details/42119265"
      ]
    },
    {
      "cell_type": "code",
      "metadata": {
        "id": "zXklaIHCbo0_",
        "colab_type": "code",
        "colab": {
          "base_uri": "https://localhost:8080/",
          "height": 89
        },
        "outputId": "3e138e94-d76b-42bc-baad-d657d0b752e9"
      },
      "source": [
        "# 按位的与，或，异或运算\n",
        "print(t & f) # 逻辑并\n",
        "print(t | f) # 逻辑或\n",
        "print(~t) # 逻辑非\n",
        "print(t ^ f) # 逻辑异或"
      ],
      "execution_count": 14,
      "outputs": [
        {
          "output_type": "stream",
          "text": [
            "False\n",
            "True\n",
            "-2\n",
            "True\n"
          ],
          "name": "stdout"
        }
      ]
    },
    {
      "cell_type": "code",
      "metadata": {
        "id": "2ZpAgN5Zcec-",
        "colab_type": "code",
        "colab": {
          "base_uri": "https://localhost:8080/",
          "height": 35
        },
        "outputId": "71d85cb5-6b1b-4292-9a64-cbf070dae521"
      },
      "source": [
        "print(\"%#x\" % 1)"
      ],
      "execution_count": 17,
      "outputs": [
        {
          "output_type": "stream",
          "text": [
            "0x1\n"
          ],
          "name": "stdout"
        }
      ]
    },
    {
      "cell_type": "code",
      "metadata": {
        "id": "jyTFnoYxahI_",
        "colab_type": "code",
        "colab": {}
      },
      "source": [
        "# 异或的一个妙用，交换a，b两个的值\n",
        "# 首先明确异或^的功能按位进行异或的\n",
        "a = 1; b = 2\n",
        "a = a^b\n",
        "b = a^b # b = a^b = (a^b)^b = a^b^b = a^0 = a\n",
        "a = a^b # a = a^b = (a^b)^a = a^b^a = b^0 = b\n",
        "print(a, b)"
      ],
      "execution_count": 0,
      "outputs": []
    },
    {
      "cell_type": "code",
      "metadata": {
        "id": "-uC7ipcwazZo",
        "colab_type": "code",
        "colab": {}
      },
      "source": [
        ""
      ],
      "execution_count": 0,
      "outputs": []
    }
  ]
}